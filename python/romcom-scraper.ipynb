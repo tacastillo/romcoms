{
 "cells": [
  {
   "cell_type": "markdown",
   "metadata": {},
   "source": [
    " # Romantic Comedies\n",
    " ### Scraped by Tim\n",
    " ### From [Wikipedia's Index of American Romantic Comedy Films](https://en.wikipedia.org/wiki/Category:American_romantic_comedy_films)"
   ]
  },
  {
   "cell_type": "code",
   "execution_count": 142,
   "metadata": {
    "collapsed": true
   },
   "outputs": [],
   "source": [
    "from urllib import request\n",
    "import dateutil.parser\n",
    "import bs4 as bs\n",
    "import json\n",
    "import random\n",
    "import re"
   ]
  },
  {
   "cell_type": "code",
   "execution_count": 249,
   "metadata": {
    "collapsed": true
   },
   "outputs": [],
   "source": [
    "WIKIPEDIA = \"https://en.wikipedia.org\"\n",
    "ROOT = WIKIPEDIA + \"/wiki/Category:American_romantic_comedy_films\"\n",
    "\n",
    "errors = []"
   ]
  },
  {
   "cell_type": "code",
   "execution_count": 209,
   "metadata": {
    "collapsed": true
   },
   "outputs": [],
   "source": [
    "movies = []\n",
    "page_params = \"\"\n",
    "\n",
    "def get_movies_from_page(url):\n",
    "    page = request.urlopen(url).read()\n",
    "    soup = bs.BeautifulSoup(page, 'lxml')\n",
    "    \n",
    "    url_list = [li.find(\"a\") for li in soup.body.select(\".mw-category\")[0].find_all(\"li\")]\n",
    "    \n",
    "    parsed_movies = [{\n",
    "                        \"title\": re.sub(\"(\\s*\\(\\d+)\\s.+\\)|(\\s\\(.+\\))\", strip_film_title, url.text),\n",
    "                        \"url\": url.get(\"href\")\n",
    "                    } for url in url_list]\n",
    "    movies.extend(parsed_movies)\n",
    "    \n",
    "    next_page = soup.body.find(\"a\", text=\"next page\")\n",
    "    if next_page:\n",
    "        page_params = next_page.get(\"href\")\n",
    "        get_movies_from_page(WIKIPEDIA + page_params)\n",
    "    else:\n",
    "        return\n",
    "    \n",
    "def strip_film_title(match):\n",
    "    g = match.group\n",
    "    if (g(2)):\n",
    "        return \"\"\n",
    "    if (g(1)):\n",
    "        return g(1) + \")\""
   ]
  },
  {
   "cell_type": "code",
   "execution_count": 210,
   "metadata": {},
   "outputs": [
    {
     "data": {
      "text/plain": [
       "1740"
      ]
     },
     "execution_count": 210,
     "metadata": {},
     "output_type": "execute_result"
    }
   ],
   "source": [
    "get_movies_from_page(ROOT)\n",
    "len(movies)"
   ]
  },
  {
   "cell_type": "markdown",
   "metadata": {},
   "source": [
    "## TODO:\n",
    "\n",
    "1. Make a sample of 10 movies that I can test\n",
    "* Grab the starring lineup duo and set them back in the movies dict\n",
    "* Grab budget and revenue <- cut out all movies that don't have both\n",
    "* roll up the data of the actors/actresses (years performed & # of movies)\n",
    "* Maybe grab IMDB scores from API\n",
    "* learn to use matplotlib again\n",
    "* plot movies per year\n",
    "* plot movies relative of budget & revenue\n",
    "* plot cast based on frequency\n",
    "* plot cast based on average revenue they bring in\n",
    "\n",
    "\n",
    "* Can keep (1953) from (1953 film), but remove (film) "
   ]
  },
  {
   "cell_type": "code",
   "execution_count": 63,
   "metadata": {
    "collapsed": true
   },
   "outputs": [],
   "source": [
    "sample_set = [movies[i] for i in random.sample(range(0, len(movies)), 10)]\n",
    "\n",
    "\n",
    "sample = sample_set[0]\n",
    "\n",
    "sample_page = request.urlopen(WIKIPEDIA_ROOT + sample[\"url\"]).read()\n",
    "sample_soup = bs.BeautifulSoup(sample_page, 'lxml')"
   ]
  },
  {
   "cell_type": "code",
   "execution_count": 252,
   "metadata": {
    "collapsed": true
   },
   "outputs": [],
   "source": [
    "def get_movie_info(movie):\n",
    "    movie_page = request.urlopen(WIKIPEDIA_ROOT + movie[\"url\"]).read()\n",
    "    movie_soup = bs.BeautifulSoup(movie_page, 'lxml')\n",
    "    \n",
    "    starring = []\n",
    "    release_date = None\n",
    "    box_office = None\n",
    "    budget = None\n",
    "    \n",
    "    try:\n",
    "        infobox = movie_soup.find(\"table\", class_=\"infobox\").find_all(\"tr\")\n",
    "        for info in infobox[2:]:\n",
    "            row_header = info.find(\"th\").text.lower();\n",
    "            if   \"starring\"     in row_header:\n",
    "                starring = [re.sub(\"\\(\\w+\\)\",\"\",name) for name in info.td.text.split(\"\\n\") if len(name) != 0]\n",
    "            elif \"release date\" in row_header:\n",
    "                release_date = string_to_date(info.find(\"td\").text, movie[\"title\"])\n",
    "            elif \"box office\"   in row_header:\n",
    "                box_office = dollar_to_float(info.find(\"td\").text, movie[\"title\"])\n",
    "            elif \"budget\"       in row_header:\n",
    "                budget = dollar_to_float(info.find(\"td\").text, movie[\"title\"])\n",
    "    except Exception as e:\n",
    "        global errors\n",
    "        errors.append(\"error for {}: \".format(movie[\"title\"], str(e)))\n",
    "    return starring, box_office, budget, release_date\n",
    "\n",
    "def dollar_to_float(value, title):\n",
    "    pattern = re.compile(r\"\\$|,|£|(\\[\\d+\\])|(\\(\\w+\\))|(\\s*\\[.+\\])|(\\s*\\(.+\\))\")\n",
    "    cleaned_string = pattern.sub(\"\", value)\n",
    "    try:\n",
    "        whitespace = re.compile(r\"\\s+\")\n",
    "        split = whitespace.split(cleaned_string)\n",
    "        if len(split) == 1 or len(split[1]) == 0:\n",
    "            return float(split[0])\n",
    "        else:\n",
    "            amount, multiplier = split\n",
    "            amount = float(amount)\n",
    "            if \"million\" in multiplier:\n",
    "                multiplier = 1e6\n",
    "            elif \"billion\" in multiplier:\n",
    "                multiplier = 1e9\n",
    "            else:\n",
    "                #Error case; easier to find this way\n",
    "                global errors\n",
    "                errors.append(\"error parsing amount {} for {}\".format(value, title))\n",
    "                multiplier = None\n",
    "            return amount * multiplier\n",
    "    except Exception as err:\n",
    "        return None\n",
    "    \n",
    "def string_to_date(string, title):\n",
    "    global errors\n",
    "    date = None\n",
    "\n",
    "    match = re.search(\"\\((\\d+-\\d+-\\d+)\\)\", string)\n",
    "    match = match.group(1) if match else None\n",
    "    if not match:\n",
    "        match = re.search(\"(\\d+ \\w+ \\d+)\", string)\n",
    "        match = match.group(1) if match else None\n",
    "    if not match:\n",
    "        match = re.search(\"(\\w+ \\d+, \\d+)\", string)\n",
    "        match = match.group(1) if match else None\n",
    "    if not match:\n",
    "        match = re.search(\"(\\d{4})\", string)\n",
    "        match = match.group(1)\n",
    "        if match:\n",
    "            return dateutil.parser.parse(match).strftime(\"%Y\")\n",
    "        \n",
    "    if match:\n",
    "        try:\n",
    "            date = dateutil.parser.parse(match).strftime(\"%Y-%m-%d\")\n",
    "        except Exception:\n",
    "            global errors\n",
    "            errors.append(\"error parsing date {} for\".format(string, title))\n",
    "    return date    "
   ]
  },
  {
   "cell_type": "code",
   "execution_count": 253,
   "metadata": {
    "collapsed": true
   },
   "outputs": [],
   "source": [
    "sample_set = [movies[i] for i in random.sample(range(0, len(movies)), 25)]\n",
    "\n",
    "for sample in sample_set[:]:\n",
    "    sample[\"cast\"], sample[\"box_office\"], sample[\"budget\"], sample[\"release_date\"] =  get_movie_info(sample)"
   ]
  },
  {
   "cell_type": "code",
   "execution_count": 255,
   "metadata": {},
   "outputs": [
    {
     "name": "stdout",
     "output_type": "stream",
     "text": [
      "."
     ]
    }
   ],
   "source": [
    "for i, movie in enumerate(movies):\n",
    "    movie[\"cast\"], movie[\"box_office\"], movie[\"budget\"], movie[\"release_date\"] =  get_movie_info(movie)\n",
    "    if i % (len(movies)/100) == 0:\n",
    "        print(\".\", end=\"\")"
   ]
  },
  {
   "cell_type": "code",
   "execution_count": 258,
   "metadata": {
    "collapsed": true
   },
   "outputs": [],
   "source": [
    "with open('raw_data.json', 'w') as out:  \n",
    "    json.dump(movies, out, ensure_ascii=False, indent=4)\n"
   ]
  },
  {
   "cell_type": "code",
   "execution_count": 259,
   "metadata": {},
   "outputs": [
    {
     "name": "stdout",
     "output_type": "stream",
     "text": [
      "error for And So They Were Married: \n",
      "error for Bitter Sweet (2009): \n",
      "error for The Boob: \n",
      "error parsing amount $9,000,000 USD for Chasing Papi\n",
      "error for The Dog Problem: \n",
      "error for Eve Knew Her Apples: \n",
      "error for Face in the Sky: \n",
      "error for Flirting with Forty: \n",
      "error for Flirty Birdy: \n",
      "error for Gideon: \n",
      "error for His Wife's Lover: \n",
      "error for Hullabaloo: \n",
      "error parsing amount $2,500,000[3]\n",
      "$2,000,000 (theatrical rentals) for It Happened One Night\n",
      "error for Lady in a Jam: \n",
      "error for Make Believe Ballroom: \n",
      "error for A Modern Affair: \n",
      "error for The Mouse Comes to Dinner: \n",
      "error parsing amount $23,681,338 (domestic)[1]\n",
      "$11,645,000 (rentals) for The Owl and the Pussycat\n",
      "error for The Pill: \n",
      "error for Set It Up: \n",
      "error for Signature Move: \n",
      "error parsing amount $10, 000 for Sleeping Beauties\n",
      "error for Solid Serenade: \n",
      "error parsing amount $2 Million for Straight A's\n",
      "error for Sweet Lies: \n",
      "error parsing amount $34,335,025 (USA)[1]\n",
      "$40,000,000 (Worldwide)[2] for Thoroughly Modern Millie\n",
      "error parsing amount $350,000\n",
      "$600,000 (With music rights) for Valley Girl\n",
      "error for The Wedding Banquet: \n",
      "error for Where Sinners Meet: \n",
      "error for The Zoot Cat: \n"
     ]
    }
   ],
   "source": [
    "for error in errors:\n",
    "    print(error)"
   ]
  },
  {
   "cell_type": "code",
   "execution_count": null,
   "metadata": {
    "collapsed": true
   },
   "outputs": [],
   "source": []
  }
 ],
 "metadata": {
  "kernelspec": {
   "display_name": "Python 3",
   "language": "python",
   "name": "python3"
  },
  "language_info": {
   "codemirror_mode": {
    "name": "ipython",
    "version": 3
   },
   "file_extension": ".py",
   "mimetype": "text/x-python",
   "name": "python",
   "nbconvert_exporter": "python",
   "pygments_lexer": "ipython3",
   "version": "3.6.1"
  }
 },
 "nbformat": 4,
 "nbformat_minor": 2
}
