{
 "cells": [
  {
   "cell_type": "code",
   "execution_count": 3,
   "metadata": {},
   "outputs": [
    {
     "name": "stdout",
     "output_type": "stream",
     "text": [
      "Collecting tqdm\n",
      "  Downloading tqdm-4.19.4-py2.py3-none-any.whl (50kB)\n",
      "\u001b[K    100% |████████████████████████████████| 51kB 1.2MB/s ta 0:00:01\n",
      "\u001b[?25hInstalling collected packages: tqdm\n",
      "Successfully installed tqdm-4.19.4\n"
     ]
    }
   ],
   "source": [
    "!pip3 install tqdm\n",
    "from tqdm import tqdm\n",
    "import pandas as pd\n",
    "import numpy as np\n",
    "import json"
   ]
  },
  {
   "cell_type": "code",
   "execution_count": 45,
   "metadata": {},
   "outputs": [
    {
     "data": {
      "text/html": [
       "<div>\n",
       "<style>\n",
       "    .dataframe thead tr:only-child th {\n",
       "        text-align: right;\n",
       "    }\n",
       "\n",
       "    .dataframe thead th {\n",
       "        text-align: left;\n",
       "    }\n",
       "\n",
       "    .dataframe tbody tr th {\n",
       "        vertical-align: top;\n",
       "    }\n",
       "</style>\n",
       "<table border=\"1\" class=\"dataframe\">\n",
       "  <thead>\n",
       "    <tr style=\"text-align: right;\">\n",
       "      <th></th>\n",
       "      <th>box_office</th>\n",
       "      <th>budget</th>\n",
       "      <th>cast</th>\n",
       "      <th>release_date</th>\n",
       "      <th>title</th>\n",
       "      <th>url</th>\n",
       "    </tr>\n",
       "  </thead>\n",
       "  <tbody>\n",
       "    <tr>\n",
       "      <th>0</th>\n",
       "      <td>1653792.0</td>\n",
       "      <td>NaN</td>\n",
       "      <td>[Chris Rock, Julie Delpy, Albert Delpy, Alexia...</td>\n",
       "      <td>2012-03-28</td>\n",
       "      <td>2 Days in New York</td>\n",
       "      <td>/wiki/2_Days_in_New_York</td>\n",
       "    </tr>\n",
       "    <tr>\n",
       "      <th>1</th>\n",
       "      <td>675000.0</td>\n",
       "      <td>NaN</td>\n",
       "      <td>[Anton Yelchin, Bérénice Marlohe, Olivia Thirl...</td>\n",
       "      <td>2014-04-19</td>\n",
       "      <td>5 to 7</td>\n",
       "      <td>/wiki/5_to_7</td>\n",
       "    </tr>\n",
       "    <tr>\n",
       "      <th>2</th>\n",
       "      <td>1370000.0</td>\n",
       "      <td>607000.0</td>\n",
       "      <td>[Ginger Rogers, Walter Connolly]</td>\n",
       "      <td>1939-09-22</td>\n",
       "      <td>5th Ave Girl</td>\n",
       "      <td>/wiki/5th_Ave_Girl</td>\n",
       "    </tr>\n",
       "    <tr>\n",
       "      <th>3</th>\n",
       "      <td>74800000.0</td>\n",
       "      <td>7000000.0</td>\n",
       "      <td>[Dudley Moore, Julie Andrews, Robert Webber, B...</td>\n",
       "      <td>1979-10-05</td>\n",
       "      <td>10</td>\n",
       "      <td>/wiki/10_(film)</td>\n",
       "    </tr>\n",
       "    <tr>\n",
       "      <th>4</th>\n",
       "      <td>NaN</td>\n",
       "      <td>NaN</td>\n",
       "      <td>[Jesse Bradford, Chris Marquette, Tammin Surso...</td>\n",
       "      <td>2013-08-13</td>\n",
       "      <td>10 Rules for Sleeping Around</td>\n",
       "      <td>/wiki/10_Rules_for_Sleeping_Around</td>\n",
       "    </tr>\n",
       "  </tbody>\n",
       "</table>\n",
       "</div>"
      ],
      "text/plain": [
       "   box_office     budget                                               cast  \\\n",
       "0   1653792.0        NaN  [Chris Rock, Julie Delpy, Albert Delpy, Alexia...   \n",
       "1    675000.0        NaN  [Anton Yelchin, Bérénice Marlohe, Olivia Thirl...   \n",
       "2   1370000.0   607000.0                   [Ginger Rogers, Walter Connolly]   \n",
       "3  74800000.0  7000000.0  [Dudley Moore, Julie Andrews, Robert Webber, B...   \n",
       "4         NaN        NaN  [Jesse Bradford, Chris Marquette, Tammin Surso...   \n",
       "\n",
       "  release_date                         title  \\\n",
       "0   2012-03-28            2 Days in New York   \n",
       "1   2014-04-19                        5 to 7   \n",
       "2   1939-09-22                  5th Ave Girl   \n",
       "3   1979-10-05                            10   \n",
       "4   2013-08-13  10 Rules for Sleeping Around   \n",
       "\n",
       "                                  url  \n",
       "0            /wiki/2_Days_in_New_York  \n",
       "1                        /wiki/5_to_7  \n",
       "2                  /wiki/5th_Ave_Girl  \n",
       "3                     /wiki/10_(film)  \n",
       "4  /wiki/10_Rules_for_Sleeping_Around  "
      ]
     },
     "execution_count": 45,
     "metadata": {},
     "output_type": "execute_result"
    }
   ],
   "source": [
    "raw_data = []\n",
    "cpi = {}\n",
    "\n",
    "with open('raw_data.json', 'r') as infile:  \n",
    "    raw_data = pd.read_json(infile, orient='records')\n",
    "    \n",
    "with open('cpi.json', 'r') as cpi_file:\n",
    "    cpi = eval(cpi_file.read())\n",
    "\n",
    "def adjust_for_inflation(amount, year):\n",
    "    current = cpi[str(2017)]\n",
    "    past = cpi[str(year)]\n",
    "    return int((current/past) * amount)\n",
    "    \n",
    "raw_data.head()"
   ]
  },
  {
   "cell_type": "code",
   "execution_count": 7,
   "metadata": {},
   "outputs": [
    {
     "data": {
      "text/html": [
       "<div>\n",
       "<style>\n",
       "    .dataframe thead tr:only-child th {\n",
       "        text-align: right;\n",
       "    }\n",
       "\n",
       "    .dataframe thead th {\n",
       "        text-align: left;\n",
       "    }\n",
       "\n",
       "    .dataframe tbody tr th {\n",
       "        vertical-align: top;\n",
       "    }\n",
       "</style>\n",
       "<table border=\"1\" class=\"dataframe\">\n",
       "  <thead>\n",
       "    <tr style=\"text-align: right;\">\n",
       "      <th></th>\n",
       "      <th>box_office</th>\n",
       "      <th>budget</th>\n",
       "      <th>cast</th>\n",
       "      <th>release_date</th>\n",
       "      <th>title</th>\n",
       "      <th>url</th>\n",
       "    </tr>\n",
       "  </thead>\n",
       "  <tbody>\n",
       "    <tr>\n",
       "      <th>2</th>\n",
       "      <td>1370000.0</td>\n",
       "      <td>607000.0</td>\n",
       "      <td>[Ginger Rogers, Walter Connolly]</td>\n",
       "      <td>1939-09-22</td>\n",
       "      <td>5th Ave Girl</td>\n",
       "      <td>/wiki/5th_Ave_Girl</td>\n",
       "    </tr>\n",
       "    <tr>\n",
       "      <th>3</th>\n",
       "      <td>74800000.0</td>\n",
       "      <td>7000000.0</td>\n",
       "      <td>[Dudley Moore, Julie Andrews, Robert Webber, B...</td>\n",
       "      <td>1979-10-05</td>\n",
       "      <td>10</td>\n",
       "      <td>/wiki/10_(film)</td>\n",
       "    </tr>\n",
       "    <tr>\n",
       "      <th>8</th>\n",
       "      <td>96500000.0</td>\n",
       "      <td>37000000.0</td>\n",
       "      <td>[Jennifer Garner, Mark Ruffalo, Judy Greer, An...</td>\n",
       "      <td>2004-04-23</td>\n",
       "      <td>13 Going on 30</td>\n",
       "      <td>/wiki/13_Going_on_30</td>\n",
       "    </tr>\n",
       "    <tr>\n",
       "      <th>10</th>\n",
       "      <td>136300000.0</td>\n",
       "      <td>40000000.0</td>\n",
       "      <td>[Zac Efron, Leslie Mann, Thomas Lennon, Michel...</td>\n",
       "      <td>2009-04-17</td>\n",
       "      <td>17 Again</td>\n",
       "      <td>/wiki/17_Again_(film)</td>\n",
       "    </tr>\n",
       "    <tr>\n",
       "      <th>11</th>\n",
       "      <td>160300000.0</td>\n",
       "      <td>30000000.0</td>\n",
       "      <td>[Katherine Heigl, James Marsden, Malin Åkerman...</td>\n",
       "      <td>2008-01-10</td>\n",
       "      <td>27 Dresses</td>\n",
       "      <td>/wiki/27_Dresses</td>\n",
       "    </tr>\n",
       "  </tbody>\n",
       "</table>\n",
       "</div>"
      ],
      "text/plain": [
       "     box_office      budget  \\\n",
       "2     1370000.0    607000.0   \n",
       "3    74800000.0   7000000.0   \n",
       "8    96500000.0  37000000.0   \n",
       "10  136300000.0  40000000.0   \n",
       "11  160300000.0  30000000.0   \n",
       "\n",
       "                                                 cast release_date  \\\n",
       "2                    [Ginger Rogers, Walter Connolly]   1939-09-22   \n",
       "3   [Dudley Moore, Julie Andrews, Robert Webber, B...   1979-10-05   \n",
       "8   [Jennifer Garner, Mark Ruffalo, Judy Greer, An...   2004-04-23   \n",
       "10  [Zac Efron, Leslie Mann, Thomas Lennon, Michel...   2009-04-17   \n",
       "11  [Katherine Heigl, James Marsden, Malin Åkerman...   2008-01-10   \n",
       "\n",
       "             title                    url  \n",
       "2     5th Ave Girl     /wiki/5th_Ave_Girl  \n",
       "3               10        /wiki/10_(film)  \n",
       "8   13 Going on 30   /wiki/13_Going_on_30  \n",
       "10        17 Again  /wiki/17_Again_(film)  \n",
       "11      27 Dresses       /wiki/27_Dresses  "
      ]
     },
     "execution_count": 7,
     "metadata": {},
     "output_type": "execute_result"
    }
   ],
   "source": [
    "raw_data[\"release_date\"] = pd.to_datetime(raw_data[\"release_date\"])\n",
    "\n",
    "casts = raw_data[raw_data[\"cast\"].astype(str) != \"[]\"]\n",
    "dates = raw_data[pd.notnull(raw_data[\"release_date\"])]\n",
    "money = raw_data[pd.notnull(raw_data[\"box_office\"])]\n",
    "money = money[pd.notnull(money[\"budget\"])]\n",
    "cleaned = raw_data.dropna()\n",
    "\n",
    "\n",
    "cleaned.head()"
   ]
  },
  {
   "cell_type": "code",
   "execution_count": 8,
   "metadata": {},
   "outputs": [
    {
     "name": "stdout",
     "output_type": "stream",
     "text": [
      "\n",
      "raw  : 1740\n",
      "casts: 1692\n",
      "dates: 1568\n",
      "money: 643\n",
      "clean: 629\n",
      "\n"
     ]
    }
   ],
   "source": [
    "print(\"\"\"\n",
    "raw  : {}\n",
    "casts: {}\n",
    "dates: {}\n",
    "money: {}\n",
    "clean: {}\n",
    "\"\"\".format(len(raw_data), len(casts), len(dates), len(money), len(cleaned)))"
   ]
  },
  {
   "cell_type": "code",
   "execution_count": 9,
   "metadata": {
    "collapsed": true
   },
   "outputs": [],
   "source": [
    "actors_map = {}\n",
    "\n",
    "for i, movie in casts.iterrows():\n",
    "    cast = movie[\"cast\"]\n",
    "    for actor_name in cast:\n",
    "        actor = actors_map.get(actor_name, {\"links\": {}, \"movies\": [], \"total\": 0})\n",
    "        actor[\"movies\"].append(movie[\"title\"])\n",
    "        movie_index = len(actor[\"movies\"])-1\n",
    "        for other_name in cast:\n",
    "            if actor_name == other_name:\n",
    "                continue\n",
    "            shared = actor[\"links\"].get(other_name, [])\n",
    "            shared.append(movie_index)\n",
    "            actor[\"links\"][other_name] = shared\n",
    "            actor[\"total\"] = actor[\"total\"] + 1\n",
    "        actors_map[actor_name] = actor"
   ]
  },
  {
   "cell_type": "code",
   "execution_count": 10,
   "metadata": {},
   "outputs": [
    {
     "name": "stdout",
     "output_type": "stream",
     "text": [
      "Links\tNodes\n",
      "1-4:\t3996\n",
      "5-9:\t1614\n",
      "10-14:\t521\n",
      "15-19:\t264\n",
      "20-24:\t119\n",
      "25-29:\t93\n",
      "30-34:\t43\n",
      "35-39:\t16\n",
      "40-44:\t16\n",
      "45-49:\t10\n",
      "50-54:\t7\n",
      "55-59:\t7\n",
      "60-64:\t3\n",
      "65-69:\t3\n",
      "70-74:\t0\n",
      "75-79:\t1\n",
      "80-84:\t0\n"
     ]
    }
   ],
   "source": [
    "print(\"Links\\tNodes\")\n",
    "print(\"{}-4:\\t{}\".format(1, len([actors_map[actor] for actor in actors_map.keys() if actors_map[actor][\"total\"] >= 1])))\n",
    "for i in range(5, 81, 5):\n",
    "    print(\"{}-{}:\\t{}\".format(i, i+4, len([actors_map[actor] for actor in actors_map.keys() if i+5 > actors_map[actor][\"total\"] >= i])))\n"
   ]
  },
  {
   "cell_type": "code",
   "execution_count": 12,
   "metadata": {},
   "outputs": [
    {
     "name": "stderr",
     "output_type": "stream",
     "text": [
      "100%|██████████| 4010/4010 [00:07<00:00, 540.31it/s]\n"
     ]
    }
   ],
   "source": [
    "sorted_dates = dates[[\"title\",\"release_date\"]].sort_values(\"release_date\")\n",
    "\n",
    "def comparator(movie):\n",
    "    filtered = sorted_dates[sorted_dates[\"title\"] == movie]\n",
    "    if not filtered.empty:\n",
    "        index = sorted_dates.index.get_loc(filtered.iloc[0].name)\n",
    "    else:\n",
    "        return -250\n",
    "    return index\n",
    "\n",
    "def get_year(title):\n",
    "    try:\n",
    "        row = sorted_dates[sorted_dates[\"title\"] == title].iloc[0]\n",
    "        median = row[\"release_date\"].year\n",
    "        return median\n",
    "    except IndexError:\n",
    "        return -1\n",
    "\n",
    "for actor_name in tqdm(actors_map):\n",
    "    actor = actors_map[actor_name]\n",
    "    if len(actor[\"movies\"]) > 1:\n",
    "        movie_list = sorted(actor[\"movies\"].copy(), key=comparator)\n",
    "        median_index = (len(movie_list)+1)//2\n",
    "        median = get_year(movie_list[median_index])\n",
    "    else:\n",
    "        median = get_year(actor[\"movies\"][0])\n",
    "    actor[\"median_year\"] = median\n",
    "    \n",
    "    "
   ]
  },
  {
   "cell_type": "code",
   "execution_count": 216,
   "metadata": {},
   "outputs": [
    {
     "data": {
      "text/plain": [
       "276"
      ]
     },
     "execution_count": 216,
     "metadata": {},
     "output_type": "execute_result"
    }
   ],
   "source": [
    "i = 0\n",
    "for actor_name in actors_map:\n",
    "    actor = actors_map[actor_name]\n",
    "    if actor[\"median_year\"] == -1:\n",
    "        i += 1\n",
    "        \n",
    "i"
   ]
  },
  {
   "cell_type": "markdown",
   "metadata": {},
   "source": [
    "# Todo:\n",
    "* Good luck, you might have to add in median years fo 276 actors manually..."
   ]
  },
  {
   "cell_type": "code",
   "execution_count": 239,
   "metadata": {
    "collapsed": true
   },
   "outputs": [],
   "source": [
    "nodes = []\n",
    "links = []\n",
    "for actor_name in actors_map:\n",
    "    actor = actors_map[actor_name]\n",
    "    nodes.append({\n",
    "        \"name\": actor_name,\n",
    "        \"total\": actor[\"total\"],\n",
    "        \"movies\": actor[\"movies\"],\n",
    "        \"median\": actor[\"median_year\"]\n",
    "    })\n",
    "    for link in actor[\"links\"]:\n",
    "        links.append({\n",
    "            \"source\": actor_name,\n",
    "            \"target\": link,\n",
    "            \"value\": actor[\"links\"][link]\n",
    "        })"
   ]
  },
  {
   "cell_type": "code",
   "execution_count": 247,
   "metadata": {},
   "outputs": [
    {
     "name": "stdout",
     "output_type": "stream",
     "text": [
      "Weight\tLinks\n",
      "1:\t33656\n",
      "2:\t528\n",
      "3:\t74\n",
      "4:\t16\n",
      "5:\t8\n",
      "6:\t6\n",
      "7:\t2\n",
      "8:\t0\n",
      "9:\t0\n",
      "10:\t0\n"
     ]
    },
    {
     "data": {
      "text/plain": [
       "528"
      ]
     },
     "execution_count": 247,
     "metadata": {},
     "output_type": "execute_result"
    }
   ],
   "source": [
    "print(\"Weight\\tLinks\")\n",
    "for i in range(1,11):\n",
    "    print(\"{}:\\t{}\".format(i,len([link for link in links if len(link[\"value\"]) >= i])))"
   ]
  },
  {
   "cell_type": "code",
   "execution_count": 263,
   "metadata": {
    "collapsed": true
   },
   "outputs": [],
   "source": [
    "new_links = [link for link in links if len(link[\"value\"]) > 1]\n",
    "hashed_links = {link[\"source\"]: True for link in new_links}\n",
    "\n",
    "new_nodes = [node for node in nodes if hashed_links.get(node[\"name\"], False)]"
   ]
  },
  {
   "cell_type": "code",
   "execution_count": 271,
   "metadata": {
    "collapsed": true
   },
   "outputs": [],
   "source": [
    "with open('network.json', 'w') as outfile:  \n",
    "    network_data = {\n",
    "        \"nodes\": new_nodes,\n",
    "        \"links\": new_links\n",
    "    }\n",
    "    json.dump(network_data, outfile, ensure_ascii=False, indent=4)"
   ]
  },
  {
   "cell_type": "code",
   "execution_count": 33,
   "metadata": {
    "collapsed": true
   },
   "outputs": [],
   "source": [
    "scatter_data = [{\n",
    "                    \"box_office\": movie[\"box_office\"],\n",
    "                    \"budget\": movie[\"budget\"],\n",
    "                    \"year\": get_year(movie[\"title\"]),\n",
    "                    \"title\": movie[\"title\"]\n",
    "                } for i, movie in money.iterrows()]\n",
    "\n",
    "with open('scatter.json', 'w') as outfile:  \n",
    "    json.dump(scatter_data, outfile, ensure_ascii=False, indent=4)"
   ]
  },
  {
   "cell_type": "code",
   "execution_count": 313,
   "metadata": {
    "collapsed": true
   },
   "outputs": [],
   "source": [
    "# sorted_dates.groupby((sorted_dates.set_index(\"release_date\").index.year//10)*10).apply(lambda x: x.to_json())\n",
    "bins = {}\n",
    "for i, movie in list(sorted_dates.iterrows())[:]:\n",
    "    decade = (movie[\"release_date\"].year//10)*10\n",
    "    decade_bin = bins.get(decade, [])\n",
    "    decade_bin.append(movie[\"title\"])\n",
    "    bins[decade] = decade_bin"
   ]
  },
  {
   "cell_type": "code",
   "execution_count": 316,
   "metadata": {},
   "outputs": [
    {
     "name": "stdout",
     "output_type": "stream",
     "text": [
      "1910: 37\n",
      "1920: 90\n",
      "1930: 230\n",
      "1940: 190\n",
      "1950: 101\n",
      "1960: 81\n",
      "1970: 36\n",
      "1980: 109\n",
      "1990: 192\n",
      "2000: 327\n",
      "2010: 175\n"
     ]
    }
   ],
   "source": [
    "for decade in bins:\n",
    "    print(\"{}: {}\".format(decade, len(bins[decade])))"
   ]
  },
  {
   "cell_type": "code",
   "execution_count": 317,
   "metadata": {
    "collapsed": true
   },
   "outputs": [],
   "source": [
    "with open('decades.json', 'w') as outfile:  \n",
    "    json.dump(bins, outfile, ensure_ascii=False, indent=4)"
   ]
  },
  {
   "cell_type": "code",
   "execution_count": 324,
   "metadata": {
    "collapsed": true
   },
   "outputs": [],
   "source": [
    "actor_bins = {}\n",
    "\n",
    "for actor_name in actors_map:\n",
    "    actor = actors_map[actor_name]\n",
    "    decade = actor[\"median_year\"]\n",
    "    if decade == -1:\n",
    "        continue\n",
    "    decade = (decade//10) * 10\n",
    "    decade_bin = actor_bins.get(decade, [])\n",
    "    decade_bin.append(actor_name)\n",
    "    actor_bins[decade] = decade_bin\n",
    "    \n",
    "with open('actor-decades.json', 'w') as outfile:  \n",
    "    json.dump(actor_bins, outfile, ensure_ascii=False, indent=4)"
   ]
  },
  {
   "cell_type": "code",
   "execution_count": 326,
   "metadata": {},
   "outputs": [
    {
     "name": "stdout",
     "output_type": "stream",
     "text": [
      "1910: 36\n",
      "1920: 111\n",
      "1930: 302\n",
      "1940: 239\n",
      "1950: 180\n",
      "1960: 174\n",
      "1970: 75\n",
      "1980: 247\n",
      "1990: 546\n",
      "2000: 1085\n",
      "2010: 739\n"
     ]
    }
   ],
   "source": [
    "for decade in sorted(actor_bins.keys()):\n",
    "    print(\"{}: {}\".format(decade, len(actor_bins[decade])))"
   ]
  },
  {
   "cell_type": "markdown",
   "metadata": {
    "collapsed": true
   },
   "source": [
    "# After prototyping, I went back to modify my output data to feature new fields that I figured out that I had needed and also computed other fields to optimize it now before bringing it into the JS"
   ]
  },
  {
   "cell_type": "code",
   "execution_count": 62,
   "metadata": {
    "collapsed": true,
    "scrolled": false
   },
   "outputs": [],
   "source": [
    "# with open('scatter.json', 'r') as infile:  \n",
    "#     scatter_data = pd.read_json(infile)\n",
    "\n",
    "scatter_data[\"budget\"] = scatter_data[\"budget\"].astype(\"int\")\n",
    "scatter_data[\"box_office\"] = scatter_data[\"box_office\"].astype(\"int\")\n",
    "scatter_data[\"budget_adj\"] = np.vectorize(adjust_for_inflation)(scatter_data[\"budget\"], scatter_data[\"year\"])\n",
    "scatter_data[\"box_office_adj\"] = np.vectorize(adjust_for_inflation)(scatter_data[\"box_office\"], scatter_data[\"year\"])\n",
    "\n",
    "\n",
    "with open('scatter.json', 'w') as outfile:\n",
    "    out_json = json.loads(scatter_data.to_json(orient='records'))\n",
    "    json.dump(out_json, outfile, ensure_ascii=False, indent=4)"
   ]
  },
  {
   "cell_type": "code",
   "execution_count": 70,
   "metadata": {
    "collapsed": true
   },
   "outputs": [],
   "source": [
    "with open('decades.json', 'r') as decades_file:  \n",
    "    decades_data = pd.Series(eval(decades_file.read()), name=\"movies\").to_frame()\n",
    "\n",
    "decades_data[\"length\"] = np.vectorize(len)(decades_data)\n",
    "out_json = json.loads(decades_data.to_json(orient='index'))\n",
    "\n",
    "with open('decades.json', 'w') as outfile:\n",
    "    json.dump(out_json, outfile, ensure_ascii=False, indent=4)"
   ]
  },
  {
   "cell_type": "code",
   "execution_count": 76,
   "metadata": {
    "collapsed": true
   },
   "outputs": [],
   "source": [
    "with open('actor-decades.json', 'r') as actors_file:  \n",
    "    actors_data = pd.Series(eval(actors_file.read()), name=\"actors\").to_frame()\n",
    "\n",
    "actors_data[\"length\"] = np.vectorize(len)(actors_data)\n",
    "out_json = json.loads(actors_data.to_json(orient='index'))\n",
    "\n",
    "with open('actor-decades.json', 'w') as outfile:\n",
    "    json.dump(out_json, outfile, ensure_ascii=False, indent=4)"
   ]
  },
  {
   "cell_type": "code",
   "execution_count": 91,
   "metadata": {
    "collapsed": true
   },
   "outputs": [],
   "source": [
    "with open('network.json', 'r') as network_file:  \n",
    "    network = eval(network_file.read())\n",
    "    nodes = network[\"nodes\"]\n",
    "    links = network[\"links\"]\n",
    "\n",
    "for node in nodes:\n",
    "    node[\"movie_total\"] = len(node[\"movies\"])\n",
    "out_json = {\"nodes\": nodes, \"links\": links}\n",
    "\n",
    "with open('network.json', 'w') as outfile:\n",
    "    json.dump(out_json, outfile, ensure_ascii=False, indent=4)"
   ]
  },
  {
   "cell_type": "code",
   "execution_count": 8,
   "metadata": {},
   "outputs": [
    {
     "data": {
      "text/html": [
       "<div>\n",
       "<style>\n",
       "    .dataframe thead tr:only-child th {\n",
       "        text-align: right;\n",
       "    }\n",
       "\n",
       "    .dataframe thead th {\n",
       "        text-align: left;\n",
       "    }\n",
       "\n",
       "    .dataframe tbody tr th {\n",
       "        vertical-align: top;\n",
       "    }\n",
       "</style>\n",
       "<table border=\"1\" class=\"dataframe\">\n",
       "  <thead>\n",
       "    <tr style=\"text-align: right;\">\n",
       "      <th></th>\n",
       "      <th>points</th>\n",
       "    </tr>\n",
       "  </thead>\n",
       "  <tbody>\n",
       "    <tr>\n",
       "      <th>1920</th>\n",
       "      <td>[{'box_office': 1550000, 'box_office_adj': 221...</td>\n",
       "    </tr>\n",
       "    <tr>\n",
       "      <th>1930</th>\n",
       "      <td>[{'box_office': 1370000, 'box_office_adj': 240...</td>\n",
       "    </tr>\n",
       "    <tr>\n",
       "      <th>1940</th>\n",
       "      <td>[{'box_office': 3947000, 'box_office_adj': 405...</td>\n",
       "    </tr>\n",
       "    <tr>\n",
       "      <th>1950</th>\n",
       "      <td>[{'box_office': 3475000, 'box_office_adj': 290...</td>\n",
       "    </tr>\n",
       "    <tr>\n",
       "      <th>1960</th>\n",
       "      <td>[{'box_office': 24600000, 'box_office_adj': 20...</td>\n",
       "    </tr>\n",
       "  </tbody>\n",
       "</table>\n",
       "</div>"
      ],
      "text/plain": [
       "                                                 points\n",
       "1920  [{'box_office': 1550000, 'box_office_adj': 221...\n",
       "1930  [{'box_office': 1370000, 'box_office_adj': 240...\n",
       "1940  [{'box_office': 3947000, 'box_office_adj': 405...\n",
       "1950  [{'box_office': 3475000, 'box_office_adj': 290...\n",
       "1960  [{'box_office': 24600000, 'box_office_adj': 20..."
      ]
     },
     "execution_count": 8,
     "metadata": {},
     "output_type": "execute_result"
    }
   ],
   "source": [
    "with open('scatter.json', 'r') as scatter_file:\n",
    "    scatter_data = pd.Series(eval(scatter_file.read()), name=\"points\").to_frame()\n",
    "    \n",
    "scatter_data.head()"
   ]
  },
  {
   "cell_type": "code",
   "execution_count": 21,
   "metadata": {
    "collapsed": true
   },
   "outputs": [],
   "source": [
    "decades_indices = sorted(set(scatter_data[\"decade\"]))\n",
    "new_scatter = {}\n",
    "for decade in decades_indices:\n",
    "    subset = scatter_data[scatter_data[\"decade\"] == decade]\n",
    "    new_scatter[str(decade)] = json.loads(subset.to_json(orient='records'))\n",
    "\n",
    "with open('scatter.json', 'w') as outfile:\n",
    "    json.dump(new_scatter, outfile, ensure_ascii=False, indent=4)"
   ]
  },
  {
   "cell_type": "code",
   "execution_count": 28,
   "metadata": {},
   "outputs": [],
   "source": [
    "with open('actor-decades.json', 'r') as actors_file:  \n",
    "    actors_data = pd.read_json(actors_file, orient=\"index\")\n",
    "    \n",
    "with open('decades.json', 'r') as decades_file:  \n",
    "    decades_data = pd.read_json(decades_file, orient=\"index\")\n",
    "\n",
    "ratios = (actors_data[\"length\"]/decades_data[\"length\"]).round(2)\n",
    "\n",
    "ratio_data = pd.DataFrame(data=ratios, index = actors_data.index)\n",
    "\n",
    "with open('ratios.json', 'w') as outfile:\n",
    "    out_json = json.loads(ratio_data.to_json(orient='index'))\n",
    "    json.dump(out_json, outfile, ensure_ascii=False, indent=4)"
   ]
  },
  {
   "cell_type": "code",
   "execution_count": null,
   "metadata": {
    "collapsed": true
   },
   "outputs": [],
   "source": []
  }
 ],
 "metadata": {
  "kernelspec": {
   "display_name": "Python 3",
   "language": "python",
   "name": "python3"
  },
  "language_info": {
   "codemirror_mode": {
    "name": "ipython",
    "version": 3
   },
   "file_extension": ".py",
   "mimetype": "text/x-python",
   "name": "python",
   "nbconvert_exporter": "python",
   "pygments_lexer": "ipython3",
   "version": "3.6.1"
  }
 },
 "nbformat": 4,
 "nbformat_minor": 2
}
